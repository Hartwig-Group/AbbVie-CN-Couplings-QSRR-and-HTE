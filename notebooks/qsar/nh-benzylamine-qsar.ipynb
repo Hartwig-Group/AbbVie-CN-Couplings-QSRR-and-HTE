{
 "cells": [
  {
   "cell_type": "code",
   "execution_count": null,
   "metadata": {},
   "outputs": [],
   "source": [
    "from pathlib import Path\n",
    "\n",
    "import molli\n",
    "\n",
    "molli.visual.configure(bgcolor=\"#1F1F1F\")\n",
    "\n",
    "root_dir = Path(\"notebooks/qsar\")\n",
    "\n",
    "xyzs = list(sorted(Path(\"data/dft/qsar/benzylamine\").rglob(\"step4.xtbopt.xyz\")))\n",
    "\n",
    "catalysts_mlib = molli.library.MoleculeLibrary(\n",
    "    root_dir / \"catalysts.mlib\",\n",
    "    readonly=False,\n",
    "    overwrite=True,\n",
    ")\n",
    "\n",
    "with catalysts_mlib.writing():\n",
    "    for xyz in xyzs:\n",
    "        mol = molli.load(xyz, parser=\"obabel\")\n",
    "        mol.name = xyz.parent.stem\n",
    "\n",
    "        catalysts_mlib[mol.name] = mol\n"
   ]
  },
  {
   "cell_type": "code",
   "execution_count": 38,
   "metadata": {},
   "outputs": [
    {
     "data": {
      "application/3dmoljs_load.v0": "<div id=\"3dmolviewer_1730253967668587\"  style=\"position: relative; width: 100%; height: 500px;\">\n        <p id=\"3dmolwarning_1730253967668587\" style=\"background-color:#ffcccc;color:black\">3Dmol.js failed to load for some reason.  Please check your browser console for error messages.<br></p>\n        </div>\n<script>\n\nvar loadScriptAsync = function(uri){\n  return new Promise((resolve, reject) => {\n    //this is to ignore the existence of requirejs amd\n    var savedexports, savedmodule;\n    if (typeof exports !== 'undefined') savedexports = exports;\n    else exports = {}\n    if (typeof module !== 'undefined') savedmodule = module;\n    else module = {}\n\n    var tag = document.createElement('script');\n    tag.src = uri;\n    tag.async = true;\n    tag.onload = () => {\n        exports = savedexports;\n        module = savedmodule;\n        resolve();\n    };\n  var firstScriptTag = document.getElementsByTagName('script')[0];\n  firstScriptTag.parentNode.insertBefore(tag, firstScriptTag);\n});\n};\n\nif(typeof $3Dmolpromise === 'undefined') {\n$3Dmolpromise = null;\n  $3Dmolpromise = loadScriptAsync('https://cdnjs.cloudflare.com/ajax/libs/3Dmol/2.4.0/3Dmol-min.js');\n}\n\nvar viewer_1730253967668587 = null;\nvar warn = document.getElementById(\"3dmolwarning_1730253967668587\");\nif(warn) {\n    warn.parentNode.removeChild(warn);\n}\n$3Dmolpromise.then(function() {\nviewer_1730253967668587 = $3Dmol.createViewer(document.getElementById(\"3dmolviewer_1730253967668587\"),{backgroundColor:\"white\"});\nviewer_1730253967668587.zoomTo();\n\tviewer_1730253967668587.addModel(\"@<TRIPOS>MOLECULE\\nL-148\\n182 190 0 0 0\\nSMALL\\nNO_CHARGES\\n\\n@<TRIPOS>ATOM\\n1 None -8.0566 6.1912 -0.4352 Pd\\n2 None -6.6383 7.6003 -0.5638 C\\n3 None -6.0401 7.9386 0.6399 C\\n4 None -4.8811 8.7010 0.6873 C\\n5 None -4.2970 9.1380 -0.5004 C\\n6 None -4.8719 8.7528 -1.7092 C\\n7 None -6.0270 7.9750 -1.7625 C\\n8 None -6.4867 7.5201 -3.1247 C\\n9 None -2.9726 9.8238 -0.5358 C\\n10 None -2.7112 10.7446 0.4425 N\\n11 None -2.1184 9.4981 -1.3521 O\\n12 None -3.7407 11.6399 0.9589 C\\n13 None -3.7498 12.9234 0.1148 C\\n14 None -2.4696 13.5201 0.0790 O\\n15 None -1.4672 12.6539 -0.4289 C\\n16 None -1.3936 11.3857 0.4238 C\\n17 None -8.8327 3.9702 -0.5892 N\\n18 None -5.8708 4.5997 -0.0733 C\\n19 None -6.2926 4.8728 1.0601 O\\n20 None -4.6962 3.6417 -0.2860 C\\n21 None -3.6652 3.7797 0.8383 C\\n22 None -5.3066 2.2301 -0.3708 C\\n23 None -2.9818 5.1461 0.7996 C\\n24 None -4.3318 1.2030 -0.9553 C\\n25 None -5.0048 -0.1617 -1.1297 C\\n26 None -4.0457 -1.1907 -1.7270 C\\n27 None -9.9650 3.0363 -0.4522 C\\n28 None -9.4846 1.6128 -0.6044 C\\n29 None -8.8214 0.9820 0.4444 C\\n30 None -8.3770 -0.3278 0.3285 C\\n31 None -8.5922 -1.0240 -0.8601 C\\n32 None -9.2391 -0.3917 -1.9255 C\\n33 None -9.6786 0.9137 -1.7946 C\\n34 None -6.4073 5.0489 -1.1375 O\\n35 None -8.2152 -2.3144 -1.0703 O\\n36 None -7.6054 -3.0601 -0.0300 C\\n37 None -6.4532 7.5652 1.5682 H\\n38 None -4.4125 8.9072 1.6432 H\\n39 None -4.3839 9.0410 -2.6358 H\\n40 None -7.1678 6.6735 -3.0472 H\\n41 None -5.6289 7.2114 -3.7240 H\\n42 None -6.9908 8.3285 -3.6571 H\\n43 None -4.7165 11.1582 0.8980 H\\n44 None -3.5161 11.8717 2.0041 H\\n45 None -4.0953 12.6894 -0.9058 H\\n46 None -4.4283 13.6555 0.5640 H\\n47 None -1.6771 12.3920 -1.4786 H\\n48 None -0.5217 13.2029 -0.3759 H\\n49 None -0.6605 10.6855 0.0170 H\\n50 None -1.1227 11.6397 1.4529 H\\n51 None -8.4217 3.7719 -1.4996 H\\n52 None -8.1371 3.6425 0.0805 H\\n53 None -4.2357 3.8838 -1.2531 H\\n54 None -4.1681 3.6454 1.8019 H\\n55 None -2.9077 2.9951 0.7447 H\\n56 None -5.6351 1.9140 0.6251 H\\n57 None -6.1975 2.2801 -1.0078 H\\n58 None -2.2553 5.2252 1.6090 H\\n59 None -3.7171 5.9451 0.9128 H\\n60 None -2.4605 5.2873 -0.1491 H\\n61 None -3.9710 1.5570 -1.9279 H\\n62 None -3.4622 1.0961 -0.2981 H\\n63 None -5.3613 -0.5172 -0.1563 H\\n64 None -5.8790 -0.0562 -1.7820 H\\n65 None -3.1819 -1.3327 -1.0757 H\\n66 None -3.6916 -0.8618 -2.7054 H\\n67 None -4.5513 -2.1497 -1.8459 H\\n68 None -10.7120 3.2672 -1.2156 H\\n69 None -10.4075 3.1739 0.5373 H\\n70 None -8.6546 1.5173 1.3733 H\\n71 None -7.8722 -0.7927 1.1653 H\\n72 None -9.3946 -0.9402 -2.8474 H\\n73 None -10.1882 1.3920 -2.6241 H\\n74 None -8.2616 -3.1360 0.8445 H\\n75 None -6.6500 -2.6169 0.2729 H\\n76 None -7.4259 -4.0580 -0.4339 H\\n77 None -9.5932 4.8178 2.7967 C\\n78 None -9.8468 6.2873 3.1386 C\\n79 None -10.6919 6.4090 4.4154 C\\n80 None -8.5661 7.0704 3.3267 C\\n81 None -8.4736 8.4125 2.9249 C\\n82 None -9.6750 9.1263 2.3904 C\\n83 None -10.2877 9.9070 3.3782 C\\n84 None -11.3434 10.7509 3.0939 C\\n85 None -11.8062 10.8453 1.7936 C\\n86 None -11.2663 10.0220 0.8107 C\\n87 None -11.7069 10.0216 -0.4702 O\\n88 None -12.8692 10.6841 -0.9907 C\\n89 None -12.8008 12.2124 -0.8858 C\\n90 None -14.1649 10.1192 -0.4108 C\\n91 None -10.2111 9.1100 1.0835 C\\n92 None -9.8349 7.8016 -0.2010 P\\n93 None -9.5430 8.6014 -1.9242 C\\n94 None -9.8425 10.0374 -2.2802 C\\n95 None -10.6363 10.4239 -3.3600 C\\n96 None -10.7572 11.7602 -3.7128 C\\n97 None -10.0810 12.7374 -2.9916 C\\n98 None -10.2480 14.1829 -3.3432 C\\n99 None -11.2737 14.7431 -2.6693 F\\n100 None -9.1607 14.9114 -3.0503 F\\n101 None -10.5055 14.3684 -4.6462 F\\n102 None -9.2727 12.3690 -1.9176 C\\n103 None -9.1505 11.0330 -1.5853 C\\n104 None -9.9288 7.5781 -3.0079 C\\n105 None -11.3353 6.9642 -2.9680 C\\n106 None -12.3532 7.9271 -3.1444 O\\n107 None -13.3691 7.3804 -3.9663 C\\n108 None -12.6736 6.2322 -4.7219 C\\n109 None -11.4278 6.0770 -4.0702 O\\n110 None -11.5608 6.1661 -1.6712 C\\n111 None -11.6036 7.1142 -0.4721 C\\n112 None -12.3133 6.5183 0.7203 C\\n113 None -12.4944 5.1425 0.8654 C\\n114 None -13.2325 4.6158 1.9143 C\\n115 None -13.8170 5.4660 2.8460 C\\n116 None -14.5866 4.9040 4.0021 C\\n117 None -15.1698 3.7329 3.7079 F\\n118 None -15.5560 5.7309 4.4211 F\\n119 None -13.7929 4.6780 5.0673 F\\n120 None -13.6623 6.8435 2.7134 C\\n121 None -12.9253 7.3551 1.6597 C\\n122 None -7.3229 9.1478 3.2707 C\\n123 None -7.0497 10.6134 2.9576 C\\n124 None -7.5402 11.5434 4.0777 C\\n125 None -7.5497 11.0905 1.5944 C\\n126 None -6.2945 8.5104 3.9670 C\\n127 None -6.3681 7.1765 4.3420 C\\n128 None -5.2313 6.5199 5.0923 C\\n129 None -5.6831 6.0817 6.4921 C\\n130 None -4.6846 5.3306 4.2937 C\\n131 None -7.5172 6.4698 4.0142 C\\n132 None -9.2428 4.2544 3.6612 H\\n133 None -10.5188 4.3589 2.4496 H\\n134 None -8.8459 4.7434 2.0052 H\\n135 None -10.4147 6.7312 2.3085 H\\n136 None -10.9937 7.4457 4.5689 H\\n137 None -10.1183 6.0799 5.2825 H\\n138 None -11.5874 5.7933 4.3357 H\\n139 None -9.9171 9.8374 4.3939 H\\n140 None -11.7970 11.3460 3.8768 H\\n141 None -12.6078 11.5295 1.5631 H\\n142 None -12.8309 10.4123 -2.0574 H\\n143 None -11.7648 12.5435 -0.8419 H\\n144 None -13.3258 12.5858 -0.0084 H\\n145 None -13.2662 12.6499 -1.7686 H\\n146 None -15.0090 10.5811 -0.9208 H\\n147 None -14.2061 9.0429 -0.5724 H\\n148 None -14.2500 10.3193 0.6554 H\\n149 None -8.4439 8.5944 -1.9295 H\\n150 None -11.1648 9.6937 -3.9555 H\\n151 None -11.3771 12.0424 -4.5551 H\\n152 None -8.7363 13.1258 -1.3589 H\\n153 None -8.5004 10.7472 -0.7695 H\\n154 None -9.2497 6.7230 -2.9226 H\\n155 None -9.7694 8.0129 -3.9976 H\\n156 None -13.7372 8.1614 -4.6387 H\\n157 None -14.2034 7.0096 -3.3545 H\\n158 None -12.5020 6.4819 -5.7768 H\\n159 None -13.2513 5.3015 -4.6622 H\\n160 None -10.7625 5.4270 -1.5840 H\\n161 None -12.5115 5.6361 -1.7634 H\\n162 None -12.2278 7.9554 -0.7847 H\\n163 None -12.0767 4.4581 0.1429 H\\n164 None -13.3599 3.5439 2.0028 H\\n165 None -14.1277 7.5120 3.4273 H\\n166 None -12.8382 8.4289 1.5679 H\\n167 None -5.9539 10.7108 2.9351 H\\n168 None -8.6241 11.6442 4.0607 H\\n169 None -7.2383 11.1545 5.0500 H\\n170 None -7.1038 12.5341 3.9467 H\\n171 None -8.6255 11.2544 1.5907 H\\n172 None -7.2970 10.3502 0.8346 H\\n173 None -7.0637 12.0324 1.3377 H\\n174 None -5.4099 9.0830 4.2290 H\\n175 None -4.4225 7.2554 5.2108 H\\n176 None -6.4671 5.3263 6.4282 H\\n177 None -6.0695 6.9374 7.0468 H\\n178 None -4.8404 5.6612 7.0418 H\\n179 None -3.8096 4.9115 4.7914 H\\n180 None -5.4369 4.5476 4.1942 H\\n181 None -4.3981 5.6594 3.2946 H\\n182 None -7.6088 5.4350 4.3233 H\\n@<TRIPOS>BOND\\n1 158 108 1\\n2 108 159 1\\n3 108 109 1\\n4 108 107 1\\n5 101 98 1\\n6 156 107 1\\n7 151 96 1\\n8 109 105 1\\n9 155 104 1\\n10 107 157 1\\n11 107 106 1\\n12 150 95 1\\n13 41 8 1\\n14 96 95 ar\\n15 96 97 ar\\n16 42 8 1\\n17 95 94 ar\\n18 98 100 1\\n19 98 97 1\\n20 98 99 1\\n21 106 105 1\\n22 8 40 1\\n23 8 7 1\\n24 104 105 1\\n25 104 154 1\\n26 104 93 1\\n27 97 102 ar\\n28 105 110 1\\n29 72 32 1\\n30 66 26 1\\n31 39 6 1\\n32 73 33 1\\n33 94 93 1\\n34 94 103 ar\\n35 142 88 1\\n36 149 93 1\\n37 61 24 1\\n38 32 33 ar\\n39 32 31 ar\\n40 93 92 1\\n41 102 103 ar\\n42 102 152 1\\n43 67 26 1\\n44 33 28 ar\\n45 64 25 1\\n46 145 89 1\\n47 161 110 1\\n48 7 6 ar\\n49 7 2 ar\\n50 26 25 1\\n51 26 65 1\\n52 6 5 ar\\n53 110 160 1\\n54 110 111 1\\n55 103 153 1\\n56 51 17 1\\n57 47 15 1\\n58 11 9 2\\n59 53 20 1\\n60 68 27 1\\n61 34 1 1\\n62 34 18 1\\n63 25 24 1\\n64 25 63 1\\n65 35 31 1\\n66 35 36 1\\n67 57 22 1\\n68 88 89 1\\n69 88 87 1\\n70 88 90 1\\n71 24 22 1\\n72 24 62 1\\n73 146 90 1\\n74 45 13 1\\n75 89 143 1\\n76 89 144 1\\n77 31 30 ar\\n78 162 111 1\\n79 28 27 1\\n80 28 29 ar\\n81 17 27 1\\n82 17 1 1\\n83 17 52 1\\n84 147 90 1\\n85 2 1 1\\n86 2 3 ar\\n87 9 5 1\\n88 9 10 am\\n89 5 4 ar\\n90 111 92 1\\n91 111 112 1\\n92 87 86 1\\n93 27 69 1\\n94 1 92 1\\n95 76 36 1\\n96 15 48 1\\n97 15 14 1\\n98 15 16 1\\n99 90 148 1\\n100 22 20 1\\n101 22 56 1\\n102 20 18 1\\n103 20 21 1\\n104 92 91 1\\n105 60 23 1\\n106 18 19 2\\n107 36 75 1\\n108 36 74 1\\n109 49 16 1\\n110 14 13 1\\n111 13 46 1\\n112 13 12 1\\n113 163 113 1\\n114 30 29 ar\\n115 30 71 1\\n116 16 10 1\\n117 16 50 1\\n118 10 12 1\\n119 29 70 1\\n120 3 4 ar\\n121 3 37 1\\n122 4 38 1\\n123 112 113 ar\\n124 112 121 ar\\n125 55 21 1\\n126 23 21 1\\n127 23 59 1\\n128 23 58 1\\n129 86 91 ar\\n130 86 85 ar\\n131 172 125 1\\n132 21 54 1\\n133 113 114 ar\\n134 43 12 1\\n135 12 44 1\\n136 91 82 ar\\n137 173 125 1\\n138 141 85 1\\n139 166 121 1\\n140 171 125 1\\n141 125 123 1\\n142 121 120 ar\\n143 85 84 ar\\n144 114 164 1\\n145 114 115 ar\\n146 134 77 1\\n147 135 78 1\\n148 82 81 1\\n149 82 83 ar\\n150 133 77 1\\n151 120 115 ar\\n152 120 165 1\\n153 77 78 1\\n154 77 132 1\\n155 115 116 1\\n156 81 122 ar\\n157 81 80 ar\\n158 167 123 1\\n159 123 122 1\\n160 123 124 1\\n161 84 83 ar\\n162 84 140 1\\n163 78 80 1\\n164 78 79 1\\n165 122 126 ar\\n166 181 130 1\\n167 80 131 ar\\n168 83 139 1\\n169 117 116 1\\n170 170 124 1\\n171 126 174 1\\n172 126 127 ar\\n173 116 118 1\\n174 116 119 1\\n175 131 182 1\\n176 131 127 ar\\n177 168 124 1\\n178 124 169 1\\n179 180 130 1\\n180 130 179 1\\n181 130 128 1\\n182 138 79 1\\n183 127 128 1\\n184 79 136 1\\n185 79 137 1\\n186 128 175 1\\n187 128 129 1\\n188 176 129 1\\n189 129 178 1\\n190 129 177 1\\n\\n\",\"mol2\");\n\tviewer_1730253967668587.setStyle({\"stick\": {\"radius\": 0.1}, \"sphere\": {\"scale\": 0.15}});\n\tviewer_1730253967668587.setHoverable({},true,\"\\n        function(atom,viewer,event,container) {\\n            if(!atom.label) {\\n                atom.label = viewer.addLabel(atom.elem + '(' + atom.index + ')', {position: atom, backgroundColor: 'silver', fontColor:'black'});\\n            }\\n        }\\n        \",\"\\n        function(atom,viewer) { \\n            if(atom.label) {\\n                viewer.removeLabel(atom.label);\\n                delete atom.label;\\n            }\\n        }\\n        \");\n\tviewer_1730253967668587.zoomTo();\n\tviewer_1730253967668587.setBackgroundColor(\"#1F1F1F\");\nviewer_1730253967668587.render();\n});\n</script>",
      "text/html": [
       "<div id=\"3dmolviewer_1730253967668587\"  style=\"position: relative; width: 100%; height: 500px;\">\n",
       "        <p id=\"3dmolwarning_1730253967668587\" style=\"background-color:#ffcccc;color:black\">3Dmol.js failed to load for some reason.  Please check your browser console for error messages.<br></p>\n",
       "        </div>\n",
       "<script>\n",
       "\n",
       "var loadScriptAsync = function(uri){\n",
       "  return new Promise((resolve, reject) => {\n",
       "    //this is to ignore the existence of requirejs amd\n",
       "    var savedexports, savedmodule;\n",
       "    if (typeof exports !== 'undefined') savedexports = exports;\n",
       "    else exports = {}\n",
       "    if (typeof module !== 'undefined') savedmodule = module;\n",
       "    else module = {}\n",
       "\n",
       "    var tag = document.createElement('script');\n",
       "    tag.src = uri;\n",
       "    tag.async = true;\n",
       "    tag.onload = () => {\n",
       "        exports = savedexports;\n",
       "        module = savedmodule;\n",
       "        resolve();\n",
       "    };\n",
       "  var firstScriptTag = document.getElementsByTagName('script')[0];\n",
       "  firstScriptTag.parentNode.insertBefore(tag, firstScriptTag);\n",
       "});\n",
       "};\n",
       "\n",
       "if(typeof $3Dmolpromise === 'undefined') {\n",
       "$3Dmolpromise = null;\n",
       "  $3Dmolpromise = loadScriptAsync('https://cdnjs.cloudflare.com/ajax/libs/3Dmol/2.4.0/3Dmol-min.js');\n",
       "}\n",
       "\n",
       "var viewer_1730253967668587 = null;\n",
       "var warn = document.getElementById(\"3dmolwarning_1730253967668587\");\n",
       "if(warn) {\n",
       "    warn.parentNode.removeChild(warn);\n",
       "}\n",
       "$3Dmolpromise.then(function() {\n",
       "viewer_1730253967668587 = $3Dmol.createViewer(document.getElementById(\"3dmolviewer_1730253967668587\"),{backgroundColor:\"white\"});\n",
       "viewer_1730253967668587.zoomTo();\n",
       "\tviewer_1730253967668587.addModel(\"@<TRIPOS>MOLECULE\\nL-148\\n182 190 0 0 0\\nSMALL\\nNO_CHARGES\\n\\n@<TRIPOS>ATOM\\n1 None -8.0566 6.1912 -0.4352 Pd\\n2 None -6.6383 7.6003 -0.5638 C\\n3 None -6.0401 7.9386 0.6399 C\\n4 None -4.8811 8.7010 0.6873 C\\n5 None -4.2970 9.1380 -0.5004 C\\n6 None -4.8719 8.7528 -1.7092 C\\n7 None -6.0270 7.9750 -1.7625 C\\n8 None -6.4867 7.5201 -3.1247 C\\n9 None -2.9726 9.8238 -0.5358 C\\n10 None -2.7112 10.7446 0.4425 N\\n11 None -2.1184 9.4981 -1.3521 O\\n12 None -3.7407 11.6399 0.9589 C\\n13 None -3.7498 12.9234 0.1148 C\\n14 None -2.4696 13.5201 0.0790 O\\n15 None -1.4672 12.6539 -0.4289 C\\n16 None -1.3936 11.3857 0.4238 C\\n17 None -8.8327 3.9702 -0.5892 N\\n18 None -5.8708 4.5997 -0.0733 C\\n19 None -6.2926 4.8728 1.0601 O\\n20 None -4.6962 3.6417 -0.2860 C\\n21 None -3.6652 3.7797 0.8383 C\\n22 None -5.3066 2.2301 -0.3708 C\\n23 None -2.9818 5.1461 0.7996 C\\n24 None -4.3318 1.2030 -0.9553 C\\n25 None -5.0048 -0.1617 -1.1297 C\\n26 None -4.0457 -1.1907 -1.7270 C\\n27 None -9.9650 3.0363 -0.4522 C\\n28 None -9.4846 1.6128 -0.6044 C\\n29 None -8.8214 0.9820 0.4444 C\\n30 None -8.3770 -0.3278 0.3285 C\\n31 None -8.5922 -1.0240 -0.8601 C\\n32 None -9.2391 -0.3917 -1.9255 C\\n33 None -9.6786 0.9137 -1.7946 C\\n34 None -6.4073 5.0489 -1.1375 O\\n35 None -8.2152 -2.3144 -1.0703 O\\n36 None -7.6054 -3.0601 -0.0300 C\\n37 None -6.4532 7.5652 1.5682 H\\n38 None -4.4125 8.9072 1.6432 H\\n39 None -4.3839 9.0410 -2.6358 H\\n40 None -7.1678 6.6735 -3.0472 H\\n41 None -5.6289 7.2114 -3.7240 H\\n42 None -6.9908 8.3285 -3.6571 H\\n43 None -4.7165 11.1582 0.8980 H\\n44 None -3.5161 11.8717 2.0041 H\\n45 None -4.0953 12.6894 -0.9058 H\\n46 None -4.4283 13.6555 0.5640 H\\n47 None -1.6771 12.3920 -1.4786 H\\n48 None -0.5217 13.2029 -0.3759 H\\n49 None -0.6605 10.6855 0.0170 H\\n50 None -1.1227 11.6397 1.4529 H\\n51 None -8.4217 3.7719 -1.4996 H\\n52 None -8.1371 3.6425 0.0805 H\\n53 None -4.2357 3.8838 -1.2531 H\\n54 None -4.1681 3.6454 1.8019 H\\n55 None -2.9077 2.9951 0.7447 H\\n56 None -5.6351 1.9140 0.6251 H\\n57 None -6.1975 2.2801 -1.0078 H\\n58 None -2.2553 5.2252 1.6090 H\\n59 None -3.7171 5.9451 0.9128 H\\n60 None -2.4605 5.2873 -0.1491 H\\n61 None -3.9710 1.5570 -1.9279 H\\n62 None -3.4622 1.0961 -0.2981 H\\n63 None -5.3613 -0.5172 -0.1563 H\\n64 None -5.8790 -0.0562 -1.7820 H\\n65 None -3.1819 -1.3327 -1.0757 H\\n66 None -3.6916 -0.8618 -2.7054 H\\n67 None -4.5513 -2.1497 -1.8459 H\\n68 None -10.7120 3.2672 -1.2156 H\\n69 None -10.4075 3.1739 0.5373 H\\n70 None -8.6546 1.5173 1.3733 H\\n71 None -7.8722 -0.7927 1.1653 H\\n72 None -9.3946 -0.9402 -2.8474 H\\n73 None -10.1882 1.3920 -2.6241 H\\n74 None -8.2616 -3.1360 0.8445 H\\n75 None -6.6500 -2.6169 0.2729 H\\n76 None -7.4259 -4.0580 -0.4339 H\\n77 None -9.5932 4.8178 2.7967 C\\n78 None -9.8468 6.2873 3.1386 C\\n79 None -10.6919 6.4090 4.4154 C\\n80 None -8.5661 7.0704 3.3267 C\\n81 None -8.4736 8.4125 2.9249 C\\n82 None -9.6750 9.1263 2.3904 C\\n83 None -10.2877 9.9070 3.3782 C\\n84 None -11.3434 10.7509 3.0939 C\\n85 None -11.8062 10.8453 1.7936 C\\n86 None -11.2663 10.0220 0.8107 C\\n87 None -11.7069 10.0216 -0.4702 O\\n88 None -12.8692 10.6841 -0.9907 C\\n89 None -12.8008 12.2124 -0.8858 C\\n90 None -14.1649 10.1192 -0.4108 C\\n91 None -10.2111 9.1100 1.0835 C\\n92 None -9.8349 7.8016 -0.2010 P\\n93 None -9.5430 8.6014 -1.9242 C\\n94 None -9.8425 10.0374 -2.2802 C\\n95 None -10.6363 10.4239 -3.3600 C\\n96 None -10.7572 11.7602 -3.7128 C\\n97 None -10.0810 12.7374 -2.9916 C\\n98 None -10.2480 14.1829 -3.3432 C\\n99 None -11.2737 14.7431 -2.6693 F\\n100 None -9.1607 14.9114 -3.0503 F\\n101 None -10.5055 14.3684 -4.6462 F\\n102 None -9.2727 12.3690 -1.9176 C\\n103 None -9.1505 11.0330 -1.5853 C\\n104 None -9.9288 7.5781 -3.0079 C\\n105 None -11.3353 6.9642 -2.9680 C\\n106 None -12.3532 7.9271 -3.1444 O\\n107 None -13.3691 7.3804 -3.9663 C\\n108 None -12.6736 6.2322 -4.7219 C\\n109 None -11.4278 6.0770 -4.0702 O\\n110 None -11.5608 6.1661 -1.6712 C\\n111 None -11.6036 7.1142 -0.4721 C\\n112 None -12.3133 6.5183 0.7203 C\\n113 None -12.4944 5.1425 0.8654 C\\n114 None -13.2325 4.6158 1.9143 C\\n115 None -13.8170 5.4660 2.8460 C\\n116 None -14.5866 4.9040 4.0021 C\\n117 None -15.1698 3.7329 3.7079 F\\n118 None -15.5560 5.7309 4.4211 F\\n119 None -13.7929 4.6780 5.0673 F\\n120 None -13.6623 6.8435 2.7134 C\\n121 None -12.9253 7.3551 1.6597 C\\n122 None -7.3229 9.1478 3.2707 C\\n123 None -7.0497 10.6134 2.9576 C\\n124 None -7.5402 11.5434 4.0777 C\\n125 None -7.5497 11.0905 1.5944 C\\n126 None -6.2945 8.5104 3.9670 C\\n127 None -6.3681 7.1765 4.3420 C\\n128 None -5.2313 6.5199 5.0923 C\\n129 None -5.6831 6.0817 6.4921 C\\n130 None -4.6846 5.3306 4.2937 C\\n131 None -7.5172 6.4698 4.0142 C\\n132 None -9.2428 4.2544 3.6612 H\\n133 None -10.5188 4.3589 2.4496 H\\n134 None -8.8459 4.7434 2.0052 H\\n135 None -10.4147 6.7312 2.3085 H\\n136 None -10.9937 7.4457 4.5689 H\\n137 None -10.1183 6.0799 5.2825 H\\n138 None -11.5874 5.7933 4.3357 H\\n139 None -9.9171 9.8374 4.3939 H\\n140 None -11.7970 11.3460 3.8768 H\\n141 None -12.6078 11.5295 1.5631 H\\n142 None -12.8309 10.4123 -2.0574 H\\n143 None -11.7648 12.5435 -0.8419 H\\n144 None -13.3258 12.5858 -0.0084 H\\n145 None -13.2662 12.6499 -1.7686 H\\n146 None -15.0090 10.5811 -0.9208 H\\n147 None -14.2061 9.0429 -0.5724 H\\n148 None -14.2500 10.3193 0.6554 H\\n149 None -8.4439 8.5944 -1.9295 H\\n150 None -11.1648 9.6937 -3.9555 H\\n151 None -11.3771 12.0424 -4.5551 H\\n152 None -8.7363 13.1258 -1.3589 H\\n153 None -8.5004 10.7472 -0.7695 H\\n154 None -9.2497 6.7230 -2.9226 H\\n155 None -9.7694 8.0129 -3.9976 H\\n156 None -13.7372 8.1614 -4.6387 H\\n157 None -14.2034 7.0096 -3.3545 H\\n158 None -12.5020 6.4819 -5.7768 H\\n159 None -13.2513 5.3015 -4.6622 H\\n160 None -10.7625 5.4270 -1.5840 H\\n161 None -12.5115 5.6361 -1.7634 H\\n162 None -12.2278 7.9554 -0.7847 H\\n163 None -12.0767 4.4581 0.1429 H\\n164 None -13.3599 3.5439 2.0028 H\\n165 None -14.1277 7.5120 3.4273 H\\n166 None -12.8382 8.4289 1.5679 H\\n167 None -5.9539 10.7108 2.9351 H\\n168 None -8.6241 11.6442 4.0607 H\\n169 None -7.2383 11.1545 5.0500 H\\n170 None -7.1038 12.5341 3.9467 H\\n171 None -8.6255 11.2544 1.5907 H\\n172 None -7.2970 10.3502 0.8346 H\\n173 None -7.0637 12.0324 1.3377 H\\n174 None -5.4099 9.0830 4.2290 H\\n175 None -4.4225 7.2554 5.2108 H\\n176 None -6.4671 5.3263 6.4282 H\\n177 None -6.0695 6.9374 7.0468 H\\n178 None -4.8404 5.6612 7.0418 H\\n179 None -3.8096 4.9115 4.7914 H\\n180 None -5.4369 4.5476 4.1942 H\\n181 None -4.3981 5.6594 3.2946 H\\n182 None -7.6088 5.4350 4.3233 H\\n@<TRIPOS>BOND\\n1 158 108 1\\n2 108 159 1\\n3 108 109 1\\n4 108 107 1\\n5 101 98 1\\n6 156 107 1\\n7 151 96 1\\n8 109 105 1\\n9 155 104 1\\n10 107 157 1\\n11 107 106 1\\n12 150 95 1\\n13 41 8 1\\n14 96 95 ar\\n15 96 97 ar\\n16 42 8 1\\n17 95 94 ar\\n18 98 100 1\\n19 98 97 1\\n20 98 99 1\\n21 106 105 1\\n22 8 40 1\\n23 8 7 1\\n24 104 105 1\\n25 104 154 1\\n26 104 93 1\\n27 97 102 ar\\n28 105 110 1\\n29 72 32 1\\n30 66 26 1\\n31 39 6 1\\n32 73 33 1\\n33 94 93 1\\n34 94 103 ar\\n35 142 88 1\\n36 149 93 1\\n37 61 24 1\\n38 32 33 ar\\n39 32 31 ar\\n40 93 92 1\\n41 102 103 ar\\n42 102 152 1\\n43 67 26 1\\n44 33 28 ar\\n45 64 25 1\\n46 145 89 1\\n47 161 110 1\\n48 7 6 ar\\n49 7 2 ar\\n50 26 25 1\\n51 26 65 1\\n52 6 5 ar\\n53 110 160 1\\n54 110 111 1\\n55 103 153 1\\n56 51 17 1\\n57 47 15 1\\n58 11 9 2\\n59 53 20 1\\n60 68 27 1\\n61 34 1 1\\n62 34 18 1\\n63 25 24 1\\n64 25 63 1\\n65 35 31 1\\n66 35 36 1\\n67 57 22 1\\n68 88 89 1\\n69 88 87 1\\n70 88 90 1\\n71 24 22 1\\n72 24 62 1\\n73 146 90 1\\n74 45 13 1\\n75 89 143 1\\n76 89 144 1\\n77 31 30 ar\\n78 162 111 1\\n79 28 27 1\\n80 28 29 ar\\n81 17 27 1\\n82 17 1 1\\n83 17 52 1\\n84 147 90 1\\n85 2 1 1\\n86 2 3 ar\\n87 9 5 1\\n88 9 10 am\\n89 5 4 ar\\n90 111 92 1\\n91 111 112 1\\n92 87 86 1\\n93 27 69 1\\n94 1 92 1\\n95 76 36 1\\n96 15 48 1\\n97 15 14 1\\n98 15 16 1\\n99 90 148 1\\n100 22 20 1\\n101 22 56 1\\n102 20 18 1\\n103 20 21 1\\n104 92 91 1\\n105 60 23 1\\n106 18 19 2\\n107 36 75 1\\n108 36 74 1\\n109 49 16 1\\n110 14 13 1\\n111 13 46 1\\n112 13 12 1\\n113 163 113 1\\n114 30 29 ar\\n115 30 71 1\\n116 16 10 1\\n117 16 50 1\\n118 10 12 1\\n119 29 70 1\\n120 3 4 ar\\n121 3 37 1\\n122 4 38 1\\n123 112 113 ar\\n124 112 121 ar\\n125 55 21 1\\n126 23 21 1\\n127 23 59 1\\n128 23 58 1\\n129 86 91 ar\\n130 86 85 ar\\n131 172 125 1\\n132 21 54 1\\n133 113 114 ar\\n134 43 12 1\\n135 12 44 1\\n136 91 82 ar\\n137 173 125 1\\n138 141 85 1\\n139 166 121 1\\n140 171 125 1\\n141 125 123 1\\n142 121 120 ar\\n143 85 84 ar\\n144 114 164 1\\n145 114 115 ar\\n146 134 77 1\\n147 135 78 1\\n148 82 81 1\\n149 82 83 ar\\n150 133 77 1\\n151 120 115 ar\\n152 120 165 1\\n153 77 78 1\\n154 77 132 1\\n155 115 116 1\\n156 81 122 ar\\n157 81 80 ar\\n158 167 123 1\\n159 123 122 1\\n160 123 124 1\\n161 84 83 ar\\n162 84 140 1\\n163 78 80 1\\n164 78 79 1\\n165 122 126 ar\\n166 181 130 1\\n167 80 131 ar\\n168 83 139 1\\n169 117 116 1\\n170 170 124 1\\n171 126 174 1\\n172 126 127 ar\\n173 116 118 1\\n174 116 119 1\\n175 131 182 1\\n176 131 127 ar\\n177 168 124 1\\n178 124 169 1\\n179 180 130 1\\n180 130 179 1\\n181 130 128 1\\n182 138 79 1\\n183 127 128 1\\n184 79 136 1\\n185 79 137 1\\n186 128 175 1\\n187 128 129 1\\n188 176 129 1\\n189 129 178 1\\n190 129 177 1\\n\\n\",\"mol2\");\n",
       "\tviewer_1730253967668587.setStyle({\"stick\": {\"radius\": 0.1}, \"sphere\": {\"scale\": 0.15}});\n",
       "\tviewer_1730253967668587.setHoverable({},true,\"\\n        function(atom,viewer,event,container) {\\n            if(!atom.label) {\\n                atom.label = viewer.addLabel(atom.elem + '(' + atom.index + ')', {position: atom, backgroundColor: 'silver', fontColor:'black'});\\n            }\\n        }\\n        \",\"\\n        function(atom,viewer) { \\n            if(atom.label) {\\n                viewer.removeLabel(atom.label);\\n                delete atom.label;\\n            }\\n        }\\n        \");\n",
       "\tviewer_1730253967668587.zoomTo();\n",
       "\tviewer_1730253967668587.setBackgroundColor(\"#1F1F1F\");\n",
       "viewer_1730253967668587.render();\n",
       "});\n",
       "</script>"
      ]
     },
     "metadata": {},
     "output_type": "display_data"
    },
    {
     "data": {
      "application/3dmoljs_load.v0": "<script>\n            $3Dmolpromise.then(function() { //wrap in promise for non-interactive functionality\n                \n                viewer_1730253967668587.render();\n            });\n            </script>",
      "text/html": [
       "<script>\n",
       "            $3Dmolpromise.then(function() { //wrap in promise for non-interactive functionality\n",
       "                \n",
       "                viewer_1730253967668587.render();\n",
       "            });\n",
       "            </script>"
      ]
     },
     "metadata": {},
     "output_type": "display_data"
    },
    {
     "data": {
      "text/plain": [
       "Molecule(name='L-148', formula='C73 H91 F6 N2 O8 P1 Pd1')"
      ]
     },
     "execution_count": 38,
     "metadata": {},
     "output_type": "execute_result"
    }
   ],
   "source": [
    "with catalysts_mlib.reading():\n",
    "    mol = catalysts_mlib[\"L-148\"]\n",
    "\n",
    "mol"
   ]
  },
  {
   "cell_type": "code",
   "execution_count": 43,
   "metadata": {},
   "outputs": [
    {
     "name": "stdout",
     "output_type": "stream",
     "text": [
      "Starting a molli.pipeline.jobmap_sge calculation:\n",
      "calculation: XTBDriver.atom_properties_m\n",
      "None\n",
      "     source:  MoleculeLibrary(backend=UkvCollectionBackend('notebooks/qsar/catalysts.mlib'), n_items=125)\n",
      "destination:  MoleculeLibrary(backend=UkvCollectionBackend('notebooks/qsar/catalysts_prop.mlib'), n_items=0)\n",
      "scratch dir:  /scr/nhadler\n",
      "Total number of jobs:      125\n",
      "Exist in destination:        0\n",
      "To be computed:            125\n"
     ]
    },
    {
     "name": "stderr",
     "output_type": "stream",
     "text": [
      "Preparing inputs: 100%|██████████| 125/125 [00:01<00:00, 98.46it/s] \n",
      "Submitting jobs: 100%|██████████| 125/125 [00:00<00:00, 23468.58it/s]\n",
      "Waiting for jobs: 100%|██████████| 125/125 [05:14<00:00,  2.51s/it]\n",
      "Finalizing the calculations: 100%|██████████| 125/125 [00:09<00:00, 12.67it/s]\n"
     ]
    }
   ],
   "source": [
    "from molli.pipeline.xtb import XTBDriver\n",
    "\n",
    "properties_mlib = molli.library.MoleculeLibrary(\n",
    "    root_dir / \"catalysts_prop.mlib\",\n",
    "    readonly=False,\n",
    "    overwrite=True,\n",
    ")\n",
    "\n",
    "xtb = XTBDriver(nprocs=8, executable=\"/home/mgcf/software-ws/xtb/xtb-6.7.1/bin/xtb\")\n",
    "\n",
    "molli.pipeline.jobmap(\n",
    "    xtb.atom_properties_m,\n",
    "    source=catalysts_mlib,\n",
    "    destination=properties_mlib,\n",
    "    cache_dir=\"/scr/nhadler/\",\n",
    "    scratch_dir=\"/scr/nhadler/\",\n",
    "    n_workers=2,\n",
    "    kwargs={\n",
    "        \"method\": \"gfn2\",\n",
    "        \"misc\": \"--alpb thf\",\n",
    "    },\n",
    "    progress=True,\n",
    "    verbose=True,\n",
    ")\n"
   ]
  },
  {
   "cell_type": "code",
   "execution_count": 49,
   "metadata": {},
   "outputs": [
    {
     "data": {
      "text/plain": [
       "{'symbol': 'Pd',\n",
       " 'disp': '287.329',\n",
       " 'pol': '34.958',\n",
       " 'charge': '-0.363',\n",
       " 'covCN': '3.104',\n",
       " 'f+': '0.144',\n",
       " 'f-': '0.317',\n",
       " 'f0': '0.231',\n",
       " 'max_bond_order': '0.943'}"
      ]
     },
     "execution_count": 49,
     "metadata": {},
     "output_type": "execute_result"
    }
   ],
   "source": [
    "with properties_mlib.reading():\n",
    "    mol = properties_mlib[\"L-148\"]\n",
    "\n",
    "mol.atoms[0].attrib"
   ]
  }
 ],
 "metadata": {
  "kernelspec": {
   "display_name": ".venv",
   "language": "python",
   "name": "python3"
  },
  "language_info": {
   "codemirror_mode": {
    "name": "ipython",
    "version": 3
   },
   "file_extension": ".py",
   "mimetype": "text/x-python",
   "name": "python",
   "nbconvert_exporter": "python",
   "pygments_lexer": "ipython3",
   "version": "3.12.6"
  }
 },
 "nbformat": 4,
 "nbformat_minor": 2
}
