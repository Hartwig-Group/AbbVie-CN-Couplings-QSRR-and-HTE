{
 "cells": [
  {
   "cell_type": "code",
   "execution_count": 24,
   "metadata": {},
   "outputs": [
    {
     "name": "stderr",
     "output_type": "stream",
     "text": [
      "[20:19:14] Explicit valence for atom # 10 C, 5, is greater than permitted\n",
      "[20:19:14] Explicit valence for atom # 8 C, 5, is greater than permitted\n",
      "[20:19:14] Explicit valence for atom # 14 C, 5, is greater than permitted\n",
      "[20:19:14] Can't kekulize mol.  Unkekulized atoms: 11 12 13 14 15\n",
      "[20:19:14] Explicit valence for atom # 8 C, 5, is greater than permitted\n",
      "[20:19:14] Explicit valence for atom # 4 C, 5, is greater than permitted\n"
     ]
    }
   ],
   "source": [
    "import numpy as np\n",
    "import pandas as pd\n",
    "from rdkit import Chem\n",
    "from rdkit.Chem import DataStructs, rdFingerprintGenerator\n",
    "\n",
    "data = pd.read_csv(\"data/ligand/aniline_hte_ligand.tsv\", delimiter=\"\\t\")\n",
    "\n",
    "\n",
    "def smi2numpyarr(smi: str) -> np.ndarray:\n",
    "    \"\"\"Generate a fingerprint numpy array from a SMILES string.\"\"\"\n",
    "    fpgen = rdFingerprintGenerator.GetMorganGenerator()\n",
    "\n",
    "    try:\n",
    "        mol = Chem.MolFromSmiles(smi)\n",
    "        fp = fpgen.GetFingerprintAsNumPy(mol)\n",
    "        fp = DataStructs.CreateFromBitString(\"\".join(fp.astype(str).tolist()))\n",
    "        return fp\n",
    "    except Exception:\n",
    "        return None\n",
    "\n",
    "\n",
    "data[\"fingerprint\"] = data[\"ligand_1_smiles\"].apply(smi2numpyarr)\n",
    "\n",
    "data.dropna(inplace=True)"
   ]
  },
  {
   "cell_type": "code",
   "execution_count": null,
   "metadata": {},
   "outputs": [],
   "source": []
  }
 ],
 "metadata": {
  "kernelspec": {
   "display_name": ".venv",
   "language": "python",
   "name": "python3"
  },
  "language_info": {
   "codemirror_mode": {
    "name": "ipython",
    "version": 3
   },
   "file_extension": ".py",
   "mimetype": "text/x-python",
   "name": "python",
   "nbconvert_exporter": "python",
   "pygments_lexer": "ipython3",
   "version": "3.12.6"
  }
 },
 "nbformat": 4,
 "nbformat_minor": 2
}
