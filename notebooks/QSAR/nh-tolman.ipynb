{
 "cells": [
  {
   "cell_type": "markdown",
   "metadata": {},
   "source": [
    "## Tolman catalyst structure generation\n",
    "\n",
    "The following notebook automatically generates the nickel phosphine ligated tricarbonyl catalysts used to calculate the Tolman electronic parameter. To ease the generation of the structures, the notebook uses the ligand structures already generated when making the palladium complexes."
   ]
  },
  {
   "cell_type": "code",
   "execution_count": 1,
   "metadata": {},
   "outputs": [],
   "source": [
    "import molli\n",
    "\n",
    "molli.visual.configure(bgcolor=\"1F1F1F\")\n",
    "\n",
    "catalyst = molli.load(\"data/dft/qsar/benzylamine/submission/Ni(CO)3.mol2\")"
   ]
  },
  {
   "cell_type": "code",
   "execution_count": null,
   "metadata": {},
   "outputs": [],
   "source": [
    "from pathlib import Path\n",
    "\n",
    "STRUCGEN_ROOT = Path(\"data/dft/qsar/benzylamine/struc_gen\")\n",
    "\n",
    "lowest_energy_structures = sorted(list(STRUCGEN_ROOT.glob(\"*/featurize_ensemble-long/STRUC1/opt.xtbopt.xyz\")))\n",
    "\n",
    "ligands_mlib = molli.MoleculeLibrary(\n",
    "    \"data/dft/qsar/benzylamine/submission/ligands-tolman.mlib\", readonly=False, overwrite=True\n",
    ")\n",
    "\n",
    "with ligands_mlib.writing():\n",
    "    for struc in lowest_energy_structures:\n",
    "        mol = molli.load(struc, parser=\"openbabel\")\n",
    "        mol.name = struc.parents[2].name\n",
    "\n",
    "        ligand = mol.substructure([0] + list(range(76, len(mol.atoms))))\n",
    "        ligand.name = mol.name\n",
    "\n",
    "        ligand.get_atom(molli.Element.Pd).label = \"AP1\"\n",
    "\n",
    "        ligand = molli.Molecule(ligand)\n",
    "\n",
    "        tolman_mol = molli.Molecule.join(\n",
    "            catalyst,\n",
    "            ligand,\n",
    "            \"AP1\",\n",
    "            \"AP1\",\n",
    "            optimize_rotation=True,\n",
    "            name=mol.name,\n",
    "        )\n",
    "\n",
    "        workdir = STRUCGEN_ROOT / tolman_mol.name / \"tolman\"\n",
    "        workdir.mkdir(parents=True, exist_ok=True)\n",
    "\n",
    "        with open(workdir / \"geom.xyz\", \"w\") as f:\n",
    "            tolman_mol.dump_xyz(f)"
   ]
  }
 ],
 "metadata": {
  "kernelspec": {
   "display_name": ".venv",
   "language": "python",
   "name": "python3"
  },
  "language_info": {
   "codemirror_mode": {
    "name": "ipython",
    "version": 3
   },
   "file_extension": ".py",
   "mimetype": "text/x-python",
   "name": "python",
   "nbconvert_exporter": "python",
   "pygments_lexer": "ipython3",
   "version": "3.12.6"
  }
 },
 "nbformat": 4,
 "nbformat_minor": 2
}
