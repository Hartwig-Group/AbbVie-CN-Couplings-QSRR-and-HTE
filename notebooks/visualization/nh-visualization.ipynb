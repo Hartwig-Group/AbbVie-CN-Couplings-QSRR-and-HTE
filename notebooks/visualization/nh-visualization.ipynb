{
 "cells": [
  {
   "cell_type": "code",
   "execution_count": 73,
   "metadata": {},
   "outputs": [],
   "source": [
    "import pandas as pd\n",
    "\n",
    "lit_cluster_heads = pd.read_csv(\"data/reaxys/cluster_heads.tsv\", delimiter=\"\\t\")\n",
    "lit_cluster_heads[\"source\"] = \"literature\"\n",
    "exp = pd.read_csv(\"data/abbvie-substrates.tsv\", delimiter=\"\\t\")\n",
    "exp[\"source\"] = \"experimental\"\n",
    "combined = pd.concat([lit_cluster_heads, exp], ignore_index=True)\n",
    "combined[\"rxn_smiles\"] = (\n",
    "    combined[\"startingmat_1_smiles\"] + \".\" + combined[\"startingmat_2_smiles\"] + \">>\" + combined[\"product_1_smiles\"]\n",
    ")"
   ]
  },
  {
   "cell_type": "code",
   "execution_count": 13,
   "metadata": {},
   "outputs": [
    {
     "data": {
      "text/plain": [
       "array([[0, 0, 0, ..., 0, 0, 0],\n",
       "       [0, 0, 0, ..., 0, 0, 0],\n",
       "       [0, 0, 0, ..., 0, 1, 0],\n",
       "       ...,\n",
       "       [0, 0, 0, ..., 0, 0, 0],\n",
       "       [0, 0, 0, ..., 0, 0, 0],\n",
       "       [0, 0, 0, ..., 0, 0, 0]], dtype=uint8)"
      ]
     },
     "execution_count": 13,
     "metadata": {},
     "output_type": "execute_result"
    }
   ],
   "source": [
    "import numpy as np\n",
    "from rdkit import Chem\n",
    "\n",
    "\n",
    "def smi2numpyarr(smi: str) -> np.ndarray:\n",
    "    \"\"\"Generate a fingerprint numpy array from a SMILES string.\"\"\"\n",
    "    fpgen = Chem.rdFingerprintGenerator.GetMorganGenerator()\n",
    "\n",
    "    mol = Chem.MolFromSmiles(smi)\n",
    "    fp = fpgen.GetFingerprintAsNumPy(mol)\n",
    "    return fp\n",
    "\n",
    "\n",
    "fingerprints = np.array([smi2numpyarr(smi) for smi in combined[\"product_1_smiles\"]])"
   ]
  },
  {
   "cell_type": "code",
   "execution_count": 28,
   "metadata": {},
   "outputs": [],
   "source": [
    "from sklearn.decomposition import PCA\n",
    "from sklearn.manifold import TSNE\n",
    "from umap import UMAP\n",
    "\n",
    "pca = PCA(n_components=8)\n",
    "X_pca = pca.fit_transform(fingerprints)\n",
    "X_pca_lit = X_pca[: len(lit_cluster_heads)]\n",
    "X_pca_exp = X_pca[len(lit_cluster_heads) :]\n",
    "\n",
    "tsne = TSNE(n_components=2)\n",
    "X_tsne = tsne.fit_transform(X_pca)\n",
    "X_tsne_lit = X_tsne[: len(lit_cluster_heads)]\n",
    "X_tsne_exp = X_tsne[len(lit_cluster_heads) :]\n",
    "\n",
    "umap = UMAP(n_components=8)\n",
    "X_umap = umap.fit_transform(fingerprints)\n",
    "X_umap_lit = X_umap[: len(lit_cluster_heads)]\n",
    "X_umap_exp = X_umap[len(lit_cluster_heads) :]"
   ]
  },
  {
   "cell_type": "code",
   "execution_count": 74,
   "metadata": {},
   "outputs": [],
   "source": [
    "pca_combined = combined.copy()\n",
    "pca_combined[\"x\"] = X_pca[:, 0]\n",
    "pca_combined[\"y\"] = X_pca[:, 1]\n",
    "pca_combined[\"source\"] = combined[\"source\"]\n",
    "\n",
    "tsne_combined = combined.copy()\n",
    "tsne_combined[\"x\"] = X_tsne[:, 0]\n",
    "tsne_combined[\"y\"] = X_tsne[:, 1]\n",
    "tsne_combined[\"source\"] = combined[\"source\"]\n",
    "\n",
    "umap_combined = combined.copy()\n",
    "umap_combined[\"x\"] = X_umap[:, 0]\n",
    "umap_combined[\"y\"] = X_umap[:, 1]\n",
    "umap_combined[\"source\"] = combined[\"source\"]"
   ]
  },
  {
   "cell_type": "code",
   "execution_count": 82,
   "metadata": {},
   "outputs": [
    {
     "name": "stderr",
     "output_type": "stream",
     "text": [
      "/home/nhadler/projects/abbvie-cn-couplings/.venv/lib/python3.12/site-packages/dash/dash.py:585: UserWarning:\n",
      "\n",
      "JupyterDash is deprecated, use Dash instead.\n",
      "See https://dash.plotly.com/dash-in-jupyter for more details.\n",
      "\n"
     ]
    },
    {
     "data": {
      "text/html": [
       "\n",
       "        <iframe\n",
       "            width=\"100%\"\n",
       "            height=\"650\"\n",
       "            src=\"http://127.0.0.1:8050/\"\n",
       "            frameborder=\"0\"\n",
       "            allowfullscreen\n",
       "            \n",
       "        ></iframe>\n",
       "        "
      ],
      "text/plain": [
       "<IPython.lib.display.IFrame at 0x7f1b5eb91580>"
      ]
     },
     "metadata": {},
     "output_type": "display_data"
    }
   ],
   "source": [
    "import molplotly\n",
    "import plotly.express as px\n",
    "\n",
    "fig = px.scatter(\n",
    "    pca_combined,\n",
    "    x=\"x\",\n",
    "    y=\"y\",\n",
    "    color=\"source\",\n",
    "    title=\"PCA\",\n",
    "    width=650,\n",
    "    height=650,\n",
    ")\n",
    "\n",
    "app = molplotly.add_molecules(\n",
    "    fig=fig,\n",
    "    df=pca_combined,\n",
    "    smiles_col=\"product_1_smiles\",\n",
    "    color_col=\"source\",\n",
    "    # title_col=\"rxn_id\",\n",
    ")\n",
    "\n",
    "app.run(jupyter_mode=\"inline\")"
   ]
  },
  {
   "cell_type": "code",
   "execution_count": 89,
   "metadata": {},
   "outputs": [
    {
     "name": "stderr",
     "output_type": "stream",
     "text": [
      "/home/nhadler/projects/abbvie-cn-couplings/.venv/lib/python3.12/site-packages/dash/dash.py:585: UserWarning:\n",
      "\n",
      "JupyterDash is deprecated, use Dash instead.\n",
      "See https://dash.plotly.com/dash-in-jupyter for more details.\n",
      "\n"
     ]
    },
    {
     "data": {
      "text/html": [
       "\n",
       "        <iframe\n",
       "            width=\"100%\"\n",
       "            height=\"650\"\n",
       "            src=\"http://127.0.0.1:8050/\"\n",
       "            frameborder=\"0\"\n",
       "            allowfullscreen\n",
       "            \n",
       "        ></iframe>\n",
       "        "
      ],
      "text/plain": [
       "<IPython.lib.display.IFrame at 0x7f1b5eb65430>"
      ]
     },
     "metadata": {},
     "output_type": "display_data"
    }
   ],
   "source": [
    "import molplotly\n",
    "import plotly.express as px\n",
    "\n",
    "fig = px.scatter(\n",
    "    tsne_combined,\n",
    "    x=\"x\",\n",
    "    y=\"y\",\n",
    "    color=\"source\",\n",
    "    title=\"t-SNE\",\n",
    "    width=625,\n",
    "    height=625,\n",
    ")\n",
    "\n",
    "\n",
    "app = molplotly.add_molecules(\n",
    "    fig=fig,\n",
    "    df=tsne_combined,\n",
    "    smiles_col=\"product_1_smiles\",\n",
    "    color_col=\"source\",\n",
    "    caption_cols=[\"rxn_id\", \"cluster\"],\n",
    ")\n",
    "\n",
    "app.run(jupyter_mode=\"inline\")"
   ]
  },
  {
   "cell_type": "code",
   "execution_count": 81,
   "metadata": {},
   "outputs": [
    {
     "name": "stderr",
     "output_type": "stream",
     "text": [
      "/home/nhadler/projects/abbvie-cn-couplings/.venv/lib/python3.12/site-packages/dash/dash.py:585: UserWarning:\n",
      "\n",
      "JupyterDash is deprecated, use Dash instead.\n",
      "See https://dash.plotly.com/dash-in-jupyter for more details.\n",
      "\n"
     ]
    },
    {
     "data": {
      "text/html": [
       "\n",
       "        <iframe\n",
       "            width=\"100%\"\n",
       "            height=\"650\"\n",
       "            src=\"http://127.0.0.1:8050/\"\n",
       "            frameborder=\"0\"\n",
       "            allowfullscreen\n",
       "            \n",
       "        ></iframe>\n",
       "        "
      ],
      "text/plain": [
       "<IPython.lib.display.IFrame at 0x7f1b5f304140>"
      ]
     },
     "metadata": {},
     "output_type": "display_data"
    }
   ],
   "source": [
    "fig = px.scatter(\n",
    "    umap_combined,\n",
    "    x=\"x\",\n",
    "    y=\"y\",\n",
    "    color=\"source\",\n",
    "    title=\"UMAP\",\n",
    "    width=625,\n",
    "    height=625,\n",
    ")\n",
    "\n",
    "app = molplotly.add_molecules(\n",
    "    fig=fig,\n",
    "    df=umap_combined,\n",
    "    smiles_col=\"product_1_smiles\",\n",
    "    color_col=\"source\",\n",
    "    # title_col=\"rxn_id\",\n",
    ")\n",
    "\n",
    "app.run(jupyter_mode=\"inline\")"
   ]
  }
 ],
 "metadata": {
  "kernelspec": {
   "display_name": ".venv",
   "language": "python",
   "name": "python3"
  },
  "language_info": {
   "codemirror_mode": {
    "name": "ipython",
    "version": 3
   },
   "file_extension": ".py",
   "mimetype": "text/x-python",
   "name": "python",
   "nbconvert_exporter": "python",
   "pygments_lexer": "ipython3",
   "version": "3.12.6"
  }
 },
 "nbformat": 4,
 "nbformat_minor": 2
}
