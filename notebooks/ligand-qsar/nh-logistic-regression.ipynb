{
 "cells": [
  {
   "cell_type": "markdown",
   "metadata": {},
   "source": [
    "## Logistic Regression Classifier\n",
    "\n",
    "This notebook demonstrates how we screened all possible combinations of the descriptors to develop a logistic regression model for the classification of ligand activity. "
   ]
  },
  {
   "cell_type": "code",
   "execution_count": 1,
   "metadata": {},
   "outputs": [],
   "source": [
    "import numpy as np\n",
    "import pandas as pd\n",
    "from sklearn import preprocessing\n",
    "from sklearn.preprocessing import StandardScaler\n",
    "\n",
    "# Load data\n",
    "df = pd.read_csv(\"data/ligand-qsar/alkylamine-ligand-modeling.tsv\", sep=\"\\t\")\n",
    "df = df[df[\"buchwald-type\"] > 0]\n",
    "\n",
    "# Define bins and labels\n",
    "activity_cutoff = 15\n",
    "bins = [-np.inf, activity_cutoff, np.inf]\n",
    "labels = [\"Low\", \"High\"]\n",
    "transformer = preprocessing.FunctionTransformer(\n",
    "    pd.cut, kw_args={\"bins\": bins, \"labels\": labels, \"retbins\": False}\n",
    ")\n",
    "\n",
    "# Standardize features\n",
    "scaler = StandardScaler()\n",
    "X = df.drop(columns=[\"ligand_1_name\", \"product_1_yield\"])\n",
    "X = pd.DataFrame(scaler.fit_transform(X), columns=X.columns)\n",
    "\n",
    "# Transform target\n",
    "y = df[\"product_1_yield\"]\n",
    "y_bin = transformer.fit_transform(y)"
   ]
  },
  {
   "cell_type": "code",
   "execution_count": 3,
   "metadata": {},
   "outputs": [],
   "source": [
    "from sklearn import metrics\n",
    "from sklearn.model_selection import StratifiedKFold\n",
    "\n",
    "\n",
    "def evaluate_model(clf, X, y_bin):\n",
    "    \"\"\"Evaluate a model using cross-validation.\"\"\"\n",
    "    clf.fit(X, y_bin)\n",
    "    print(X.columns)\n",
    "    preds = clf.predict(X)\n",
    "    print(f\"Accuracy: {metrics.accuracy_score(y_bin, preds):0.2f}\")\n",
    "    print(f\"F1: {metrics.f1_score(y_bin, preds, pos_label='High'):0.2f}\")\n",
    "    print(f\"MCC: {metrics.matthews_corrcoef(y_bin, preds):0.2f}\")\n",
    "    print(\"Confusion matrix:\\n\", metrics.confusion_matrix(y_bin, preds))\n",
    "    print(f\"Incorrect ligands: {df.loc[y_bin != preds, 'ligand_1_name'].tolist()}\")\n",
    "    print()\n",
    "\n",
    "    kfold = StratifiedKFold(n_splits=4, shuffle=True, random_state=42)\n",
    "    kfold_accuracies = []\n",
    "    kfold_high_yield_f1s = []\n",
    "    kfold_mccs = []\n",
    "    for train_index, test_index in kfold.split(X, y_bin):\n",
    "        X_train, X_test = X.iloc[train_index], X.iloc[test_index]\n",
    "        y_train, y_test = y_bin[train_index], y_bin[test_index]\n",
    "\n",
    "        clf.fit(X_train, y_train)\n",
    "        preds = clf.predict(X_test)\n",
    "\n",
    "        accuracy = metrics.accuracy_score(y_test, preds)\n",
    "        high_yield_f1 = metrics.f1_score(y_test, preds, pos_label=\"High\")\n",
    "        mcc = metrics.matthews_corrcoef(y_test, preds)\n",
    "\n",
    "        kfold_accuracies.append(accuracy)\n",
    "        kfold_high_yield_f1s.append(high_yield_f1)\n",
    "        kfold_mccs.append(mcc)\n",
    "\n",
    "    print(\n",
    "        f\"K-Fold Accuracy: {np.mean(kfold_accuracies):0.2f} +/- {np.std(kfold_accuracies):0.2f}\"\n",
    "    )\n",
    "    print(\n",
    "        f\"K-Fold F1: {np.mean(kfold_high_yield_f1s):0.2f} +/- {np.std(kfold_high_yield_f1s):0.2f}\"\n",
    "    )\n",
    "    print(f\"K-Fold MCC: {np.mean(kfold_mccs):0.2f} +/- {np.std(kfold_mccs):0.2f}\")\n",
    "    print()"
   ]
  },
  {
   "cell_type": "code",
   "execution_count": 2,
   "metadata": {},
   "outputs": [],
   "source": [
    "from itertools import combinations\n",
    "\n",
    "from joblib import Parallel, delayed\n",
    "from sklearn.linear_model import LogisticRegression\n",
    "from tqdm import tqdm\n",
    "\n",
    "run = True\n",
    "\n",
    "\n",
    "def evaluate_combination(features: tuple):\n",
    "    \"\"\"Evaluate a combination of features using multiprocessing.\"\"\"\n",
    "    clf = LogisticRegression(random_state=42, class_weight=\"balanced\", C=6)\n",
    "    clf.fit(X[list(features)], y_bin)\n",
    "    f1 = round(\n",
    "        metrics.f1_score(y_bin, clf.predict(X[list(features)]), pos_label=\"High\"), 2\n",
    "    )\n",
    "    if f1 < 0.7:\n",
    "        return (features, f1, 0)\n",
    "    kfold = StratifiedKFold(n_splits=4, shuffle=True, random_state=42)\n",
    "    kfold_f1s = []\n",
    "    for train_index, test_index in kfold.split(X, y_bin):\n",
    "        X_train, X_test = X.iloc[train_index], X.iloc[test_index]\n",
    "        y_train, y_test = y_bin[train_index], y_bin[test_index]\n",
    "        clf.fit(X_train[list(features)], y_train)\n",
    "        preds = clf.predict(X_test[list(features)])\n",
    "        f1_k = metrics.f1_score(y_test, preds, pos_label=\"High\")\n",
    "        kfold_f1s.append(f1_k)\n",
    "    kfold_f1 = round(np.mean(kfold_f1s), 2)\n",
    "    return (features, f1, kfold_f1)\n"
   ]
  },
  {
   "cell_type": "markdown",
   "metadata": {},
   "source": [
    "Evaluate all features as a single parameter logistic regression"
   ]
  },
  {
   "cell_type": "code",
   "execution_count": null,
   "metadata": {},
   "outputs": [],
   "source": [
    "combinations_list = list(combinations(X.columns, 1))\n",
    "print(f\"Number of combinations: {len(combinations_list)}\")\n",
    "\n",
    "if run:\n",
    "    results = Parallel(n_jobs=-1)(\n",
    "        delayed(evaluate_combination)(features) for features in tqdm(combinations_list)\n",
    "    )\n",
    "\n",
    "    results = sorted(results, key=lambda x: x[1], reverse=True)\n",
    "    for features, f1, kfold_f1 in results[:10]:\n",
    "        print(f\"Features: {features}, F1: {f1}, K-Fold F1: {kfold_f1}\")"
   ]
  },
  {
   "cell_type": "code",
   "execution_count": 20,
   "metadata": {},
   "outputs": [
    {
     "name": "stdout",
     "output_type": "stream",
     "text": [
      "Index(['max_sasa_ligand_area'], dtype='object')\n",
      "Accuracy: 0.93\n",
      "F1: 0.70\n",
      "MCC: 0.68\n",
      "Confusion matrix:\n",
      " [[ 8  1]\n",
      " [ 6 81]]\n",
      "Incorrect ligands: ['L-067', 'L-106', 'L-107', 'L-108', 'L-109', 'L-128', 'L-147']\n",
      "\n",
      "K-Fold Accuracy: 0.93 +/- 0.06\n",
      "K-Fold F1: 0.74 +/- 0.18\n",
      "K-Fold MCC: 0.72 +/- 0.21\n",
      "\n",
      "Feature coefficients:\n",
      "  max_sasa_ligand_area: -3.93\n",
      "Intercept: 3.8428755503895218\n"
     ]
    }
   ],
   "source": [
    "X_feat = X[list(results[0][0])]\n",
    "\n",
    "clf = LogisticRegression(random_state=42, class_weight=\"balanced\", C=10)\n",
    "evaluate_model(clf, X_feat, y_bin)\n",
    "\n",
    "print(\"Feature coefficients:\")\n",
    "coefficients = sorted(\n",
    "    zip(X_feat.columns, clf.coef_[0]), key=lambda x: abs(x[1]), reverse=True\n",
    ")\n",
    "for feature, coefficient in coefficients:\n",
    "    print(f\"  {feature}: {coefficient:0.2f}\")\n",
    "\n",
    "print(\"Intercept:\", clf.intercept_[0])"
   ]
  },
  {
   "cell_type": "markdown",
   "metadata": {},
   "source": [
    "Evaluate all features as a two parameter logistic regression"
   ]
  },
  {
   "cell_type": "code",
   "execution_count": 22,
   "metadata": {},
   "outputs": [
    {
     "name": "stdout",
     "output_type": "stream",
     "text": [
      "Number of combinations: 11628\n"
     ]
    },
    {
     "name": "stderr",
     "output_type": "stream",
     "text": [
      "100%|██████████| 11628/11628 [00:10<00:00, 1155.77it/s]\n"
     ]
    },
    {
     "name": "stdout",
     "output_type": "stream",
     "text": [
      "Features: ('sterimol_ligand_L', 'max_sasa_ligand_area'), F1: 0.86, K-Fold F1: 0.82\n",
      "Features: ('quadrant_buried_volume_ligand_range_max', 'max_sasa_ligand_area'), F1: 0.82, K-Fold F1: 0.75\n",
      "Features: ('homo_lumo', 'max_sasa_ligand_area'), F1: 0.82, K-Fold F1: 0.84\n",
      "Features: ('partial_charge_carbonyl_carbon', 'max_sasa_ligand_area'), F1: 0.82, K-Fold F1: 0.84\n",
      "Features: ('fukui_f_minus_aryl_carbon', 'max_sasa_ligand_area'), F1: 0.82, K-Fold F1: 0.81\n",
      "Features: ('min_quadrant_buried_volume_ligand_range_max', 'max_sasa_ligand_area'), F1: 0.82, K-Fold F1: 0.83\n",
      "Features: ('min_fukui_f_minus_avg_amine_proton', 'max_sasa_ligand_area'), F1: 0.82, K-Fold F1: 0.86\n",
      "Features: ('max_P_int_ligand', 'max_sasa_ligand_area'), F1: 0.82, K-Fold F1: 0.83\n",
      "Features: ('max_sasa_ligand_area', 'max_sterimol_ligand_L'), F1: 0.82, K-Fold F1: 0.87\n",
      "Features: ('max_sasa_ligand_area', 'max_distance_carb_OH_O'), F1: 0.82, K-Fold F1: 0.72\n"
     ]
    }
   ],
   "source": [
    "from itertools import combinations\n",
    "\n",
    "from joblib import Parallel, delayed\n",
    "from sklearn.linear_model import LogisticRegression\n",
    "from tqdm import tqdm\n",
    "\n",
    "run = True\n",
    "\n",
    "combinations_list = list(combinations(X.columns, 2))\n",
    "print(f\"Number of combinations: {len(combinations_list)}\")\n",
    "\n",
    "if run:\n",
    "    results = Parallel(n_jobs=-1)(\n",
    "        delayed(evaluate_combination)(features) for features in tqdm(combinations_list)\n",
    "    )\n",
    "\n",
    "    results = sorted(results, key=lambda x: x[1], reverse=True)\n",
    "    for features, f1, kfold_f1 in results[:10]:\n",
    "        print(f\"Features: {features}, F1: {f1}, K-Fold F1: {kfold_f1}\")"
   ]
  },
  {
   "cell_type": "code",
   "execution_count": 23,
   "metadata": {},
   "outputs": [
    {
     "name": "stdout",
     "output_type": "stream",
     "text": [
      "Index(['sterimol_ligand_L', 'max_sasa_ligand_area'], dtype='object')\n",
      "Accuracy: 0.97\n",
      "F1: 0.86\n",
      "MCC: 0.85\n",
      "Confusion matrix:\n",
      " [[ 9  0]\n",
      " [ 3 84]]\n",
      "Incorrect ligands: ['L-067', 'L-106', 'L-107']\n",
      "\n",
      "K-Fold Accuracy: 0.96 +/- 0.03\n",
      "K-Fold F1: 0.82 +/- 0.12\n",
      "K-Fold MCC: 0.82 +/- 0.12\n",
      "\n",
      "Feature coefficients:\n",
      "  max_sasa_ligand_area: -3.74\n",
      "  sterimol_ligand_L: -0.63\n",
      "Intercept: 4.397759060313071\n"
     ]
    }
   ],
   "source": [
    "X_feat = X[list(results[0][0])]\n",
    "\n",
    "clf = LogisticRegression(random_state=42, class_weight=\"balanced\", C=10)\n",
    "evaluate_model(clf, X_feat, y_bin)\n",
    "\n",
    "print(\"Feature coefficients:\")\n",
    "coefficients = sorted(\n",
    "    zip(X_feat.columns, clf.coef_[0]), key=lambda x: abs(x[1]), reverse=True\n",
    ")\n",
    "for feature, coefficient in coefficients:\n",
    "    print(f\"  {feature}: {coefficient:0.2f}\")\n",
    "\n",
    "print(\"Intercept:\", clf.intercept_[0])"
   ]
  },
  {
   "cell_type": "markdown",
   "metadata": {},
   "source": [
    "Evaluate all features as a three parameter logistic regression"
   ]
  },
  {
   "cell_type": "code",
   "execution_count": 4,
   "metadata": {},
   "outputs": [
    {
     "name": "stdout",
     "output_type": "stream",
     "text": [
      "Number of combinations: 585276\n"
     ]
    },
    {
     "name": "stderr",
     "output_type": "stream",
     "text": [
      "100%|██████████| 585276/585276 [09:09<00:00, 1064.54it/s]\n"
     ]
    },
    {
     "name": "stdout",
     "output_type": "stream",
     "text": [
      "Features: ('min_distance_Pd_P', 'max_sasa_ligand_area', 'max_sterimol_ligand_B5'), F1: 0.95, K-Fold F1: 0.83\n",
      "Features: ('buried_volume_3.5A', 'quadrant_buried_volume_ligand_range_max', 'max_sasa_ligand_area'), F1: 0.9, K-Fold F1: 0.87\n",
      "Features: ('quadrant_buried_volume_ligand_range_max', 'max_buried_volume_3.5A', 'max_sasa_ligand_area'), F1: 0.9, K-Fold F1: 0.87\n",
      "Features: ('sterimol_ligand_L', 'max_P_int_ligand', 'max_sasa_ligand_area'), F1: 0.9, K-Fold F1: 0.83\n",
      "Features: ('buried_sterimol_ligand_L', 'min_fukui_f_minus_avg_amine_proton', 'max_sasa_ligand_area'), F1: 0.9, K-Fold F1: 0.78\n",
      "Features: ('buried_sterimol_ligand_B5', 'bond_order_Pd_P', 'max_sasa_ligand_area'), F1: 0.9, K-Fold F1: 0.89\n",
      "Features: ('distance_Pd_N', 'max_buried_volume_5.0A', 'max_buried_volume_ipso_3.5A'), F1: 0.9, K-Fold F1: 0.59\n",
      "Features: ('distance_avg_amine_N_H', 'min_fukui_f_minus_avg_amine_proton', 'max_sasa_ligand_area'), F1: 0.9, K-Fold F1: 0.89\n",
      "Features: ('homo_lumo', 'min_fukui_f_minus_avg_amine_proton', 'max_sasa_ligand_area'), F1: 0.9, K-Fold F1: 0.92\n",
      "Features: ('fukui_f_minus_aryl_carbon', 'min_distance_Pd_P', 'max_sasa_ligand_area'), F1: 0.9, K-Fold F1: 0.76\n"
     ]
    }
   ],
   "source": [
    "from itertools import combinations\n",
    "\n",
    "from joblib import Parallel, delayed\n",
    "from sklearn.linear_model import LogisticRegression\n",
    "from tqdm import tqdm\n",
    "\n",
    "run = True\n",
    "\n",
    "combinations_list = list(combinations(X.columns, 3))\n",
    "print(f\"Number of combinations: {len(combinations_list)}\")\n",
    "\n",
    "if run:\n",
    "    results = Parallel(n_jobs=-1)(\n",
    "        delayed(evaluate_combination)(features) for features in tqdm(combinations_list)\n",
    "    )\n",
    "\n",
    "    results = sorted(results, key=lambda x: x[1], reverse=True)\n",
    "    for features, f1, kfold_f1 in results[:10]:\n",
    "        print(f\"Features: {features}, F1: {f1}, K-Fold F1: {kfold_f1}\")"
   ]
  },
  {
   "cell_type": "code",
   "execution_count": 5,
   "metadata": {},
   "outputs": [
    {
     "name": "stdout",
     "output_type": "stream",
     "text": [
      "Index(['min_distance_Pd_P', 'max_sasa_ligand_area', 'max_sterimol_ligand_B5'], dtype='object')\n",
      "Accuracy: 0.99\n",
      "F1: 0.95\n",
      "MCC: 0.94\n",
      "Confusion matrix:\n",
      " [[ 9  0]\n",
      " [ 1 86]]\n",
      "Incorrect ligands: ['L-107']\n",
      "\n",
      "K-Fold Accuracy: 0.97 +/- 0.03\n",
      "K-Fold F1: 0.83 +/- 0.17\n",
      "K-Fold MCC: 0.84 +/- 0.16\n",
      "\n",
      "Feature coefficients:\n",
      "  max_sasa_ligand_area: -5.00\n",
      "  min_distance_Pd_P: 1.56\n",
      "  max_sterimol_ligand_B5: 0.91\n",
      "Intercept: 5.0962473425312576\n"
     ]
    }
   ],
   "source": [
    "X_feat = X[list(results[0][0])]\n",
    "\n",
    "clf = LogisticRegression(random_state=42, class_weight=\"balanced\", C=10)\n",
    "evaluate_model(clf, X_feat, y_bin)\n",
    "\n",
    "print(\"Feature coefficients:\")\n",
    "coefficients = sorted(\n",
    "    zip(X_feat.columns, clf.coef_[0]), key=lambda x: abs(x[1]), reverse=True\n",
    ")\n",
    "for feature, coefficient in coefficients:\n",
    "    print(f\"  {feature}: {coefficient:0.2f}\")\n",
    "\n",
    "print(\"Intercept:\", clf.intercept_[0])"
   ]
  }
 ],
 "metadata": {
  "kernelspec": {
   "display_name": ".venv",
   "language": "python",
   "name": "python3"
  },
  "language_info": {
   "codemirror_mode": {
    "name": "ipython",
    "version": 3
   },
   "file_extension": ".py",
   "mimetype": "text/x-python",
   "name": "python",
   "nbconvert_exporter": "python",
   "pygments_lexer": "ipython3",
   "version": "3.12.6"
  }
 },
 "nbformat": 4,
 "nbformat_minor": 2
}
